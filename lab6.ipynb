{
  "nbformat": 4,
  "nbformat_minor": 0,
  "metadata": {
    "colab": {
      "provenance": [],
      "authorship_tag": "ABX9TyPSXZoD0p6s2pPp17dhgZov",
      "include_colab_link": true
    },
    "kernelspec": {
      "name": "python3",
      "display_name": "Python 3"
    },
    "language_info": {
      "name": "python"
    }
  },
  "cells": [
    {
      "cell_type": "markdown",
      "metadata": {
        "id": "view-in-github",
        "colab_type": "text"
      },
      "source": [
        "<a href=\"https://colab.research.google.com/github/Tharun1525/PDS_1525_B_10/blob/main/lab6.ipynb\" target=\"_parent\"><img src=\"https://colab.research.google.com/assets/colab-badge.svg\" alt=\"Open In Colab\"/></a>"
      ]
    },
    {
      "cell_type": "code",
      "execution_count": null,
      "metadata": {
        "colab": {
          "base_uri": "https://localhost:8080/"
        },
        "id": "smQLEO1kAf5J",
        "outputId": "ad3cfe68-edd2-4e1b-d645-1cdb68e19552"
      },
      "outputs": [
        {
          "output_type": "stream",
          "name": "stdout",
          "text": [
            "---- Original Sales Data ----\n",
            "   Transaction_ID     Product  Amount\n",
            "0             101      Laptop   75000\n",
            "1             102      Mobile   25000\n",
            "2             103      Tablet   18000\n",
            "3             104  Headphones    5000\n",
            "4             105     Charger    1500\n",
            "5             102      Mobile   25000\n",
            "6             104  Headphones    5000\n",
            "\n",
            "Number of duplicate rows: 2\n",
            "\n",
            "---- Cleaned Sales Data ----\n",
            "   Transaction_ID     Product  Amount\n",
            "0             101      Laptop   75000\n",
            "1             102      Mobile   25000\n",
            "2             103      Tablet   18000\n",
            "3             104  Headphones    5000\n",
            "4             105     Charger    1500\n",
            "\n",
            "Number of duplicate rows after cleaning: 0\n"
          ]
        }
      ],
      "source": [
        "import pandas as pd\n",
        "\n",
        "# Step 1: Create Sales Dataset with duplicates\n",
        "data = {\n",
        "    \"Transaction_ID\": [101, 102, 103, 104, 105, 102, 104],  # duplicates on purpose\n",
        "    \"Product\": [\"Laptop\", \"Mobile\", \"Tablet\", \"Headphones\", \"Charger\", \"Mobile\", \"Headphones\"],\n",
        "    \"Amount\": [75000, 25000, 18000, 5000, 1500, 25000, 5000]\n",
        "}\n",
        "\n",
        "sales_df = pd.DataFrame(data)\n",
        "\n",
        "print(\"---- Original Sales Data ----\")\n",
        "print(sales_df)\n",
        "\n",
        "# Step 2: Identify Duplicates\n",
        "duplicate_count = sales_df.duplicated().sum()\n",
        "print(\"\\nNumber of duplicate rows:\", duplicate_count)\n",
        "\n",
        "# Step 3: Remove Duplicates\n",
        "sales_cleaned = sales_df.drop_duplicates()\n",
        "\n",
        "cleaned_duplicate_count = sales_cleaned.duplicated().sum()\n",
        "print(\"\\n---- Cleaned Sales Data ----\")\n",
        "print(sales_cleaned)\n",
        "\n",
        "print(\"\\nNumber of duplicate rows after cleaning:\", cleaned_duplicate_count)\n"
      ]
    },
    {
      "cell_type": "code",
      "source": [
        "import pandas as pd\n",
        "\n",
        "employee_data = {\n",
        "    \"Employee_ID\": [1, 2, 3],\n",
        "    \"Name\": [\"Alice\", \"Bob\", \"Charlie\"],\n",
        "    \"Salary\": [\"50000\", \"60000\", \"70000\"],\n",
        "    \"Joining_Date\": [\"2023-01-15\", \"2023-03-10\", \"2023-07-05\"]\n",
        "}\n",
        "\n",
        "emp_df = pd.DataFrame(employee_data)\n",
        "\n",
        "print(\"---- Original Employee Data ----\")\n",
        "print(emp_df)\n",
        "print(\"\\nData Types Before Conversion:\\n\", emp_df.dtypes)\n",
        "\n",
        "emp_df[\"Salary\"] = pd.to_numeric(emp_df[\"Salary\"])\n",
        "\n",
        "\n",
        "emp_df[\"Joining_Date\"] = pd.to_datetime(emp_df[\"Joining_Date\"])\n",
        "\n",
        "print(\"\\n---- Cleaned Employee Data ----\")\n",
        "print(emp_df)\n",
        "print(\"\\nData Types After Conversion:\\n\", emp_df.dtypes)\n"
      ],
      "metadata": {
        "colab": {
          "base_uri": "https://localhost:8080/"
        },
        "id": "z64JQMq8BPQ_",
        "outputId": "bebb1f93-790c-42a1-8cd3-dd048ad5cd8a"
      },
      "execution_count": null,
      "outputs": [
        {
          "output_type": "stream",
          "name": "stdout",
          "text": [
            "---- Original Employee Data ----\n",
            "   Employee_ID     Name Salary Joining_Date\n",
            "0            1    Alice  50000   2023-01-15\n",
            "1            2      Bob  60000   2023-03-10\n",
            "2            3  Charlie  70000   2023-07-05\n",
            "\n",
            "Data Types Before Conversion:\n",
            " Employee_ID      int64\n",
            "Name            object\n",
            "Salary          object\n",
            "Joining_Date    object\n",
            "dtype: object\n",
            "\n",
            "---- Cleaned Employee Data ----\n",
            "   Employee_ID     Name  Salary Joining_Date\n",
            "0            1    Alice   50000   2023-01-15\n",
            "1            2      Bob   60000   2023-03-10\n",
            "2            3  Charlie   70000   2023-07-05\n",
            "\n",
            "Data Types After Conversion:\n",
            " Employee_ID              int64\n",
            "Name                    object\n",
            "Salary                   int64\n",
            "Joining_Date    datetime64[ns]\n",
            "dtype: object\n"
          ]
        }
      ]
    }
  ]
}